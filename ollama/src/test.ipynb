{
 "cells": [
  {
   "cell_type": "code",
   "id": "initial_id",
   "metadata": {
    "collapsed": true,
    "ExecuteTime": {
     "end_time": "2025-01-20T01:19:13.452210Z",
     "start_time": "2025-01-20T01:19:12.848657Z"
    }
   },
   "source": [
    "import ollama\n",
    "\n",
    "# LLaVA 모델을 사용하여 질문에 대한 답변 요청\n",
    "def ask_question(question):\n",
    "    response = ollama.chat(\n",
    "        model=\"llava:7b\",\n",
    "        messages=[\n",
    "            {\n",
    "                'role': 'user',\n",
    "                'content': question\n",
    "            }\n",
    "        ]\n",
    "    )\n",
    "    return response['message']['content']"
   ],
   "outputs": [],
   "execution_count": 1
  },
  {
   "metadata": {
    "ExecuteTime": {
     "end_time": "2025-01-20T01:32:13.548938Z",
     "start_time": "2025-01-20T01:32:13.027150Z"
    }
   },
   "cell_type": "code",
   "source": "ask_question(\"안녕 반가워\")",
   "id": "c03ba26918a9b2bf",
   "outputs": [
    {
     "data": {
      "text/plain": [
       "' 안녕하세요! 무엇을 도와드릴까요? '"
      ]
     },
     "execution_count": 6,
     "metadata": {},
     "output_type": "execute_result"
    }
   ],
   "execution_count": 6
  },
  {
   "metadata": {
    "ExecuteTime": {
     "end_time": "2025-01-20T01:32:41.036278Z",
     "start_time": "2025-01-20T01:32:39.323144Z"
    }
   },
   "cell_type": "code",
   "source": "ask_question(\"너 버전이 뭐야?\")",
   "id": "8663954a9118d010",
   "outputs": [
    {
     "data": {
      "text/plain": [
       "' 저는 인공지능 모델로, 내부적으로 학습과 가중치를 업데이트함에도 잠재적으로 성능이 저조하거나 일정 기간 후에 새 데이터와 같은 모델을 다시 학습할 수 있는 등의 작업을 지원할 수 있습니다. '"
      ]
     },
     "execution_count": 7,
     "metadata": {},
     "output_type": "execute_result"
    }
   ],
   "execution_count": 7
  },
  {
   "metadata": {
    "ExecuteTime": {
     "end_time": "2025-01-20T01:19:13.974581Z",
     "start_time": "2025-01-20T01:19:13.490733Z"
    }
   },
   "cell_type": "code",
   "source": [
    "import requests\n",
    "import json\n",
    "from PIL import Image\n",
    "import base64\n",
    "from io import BytesIO"
   ],
   "id": "dcd72bccdafb3e7f",
   "outputs": [],
   "execution_count": 2
  },
  {
   "metadata": {
    "ExecuteTime": {
     "end_time": "2025-01-20T01:19:19.130769Z",
     "start_time": "2025-01-20T01:19:14.297671Z"
    }
   },
   "cell_type": "code",
   "source": [
    "# 테스트할 이미지 파일 경로\n",
    "image_path = \"./car.png\"  # 이미지 파일 경로를 입력하세요\n",
    "\n",
    "# 사용자 질문\n",
    "question = \"이 이미지에 대해 설명해주세요.\"\n",
    "\n",
    "def encode_image_to_base64(image_path):\n",
    "    \"\"\"이미지 파일을 Base64 문자열로 인코딩합니다.\"\"\"\n",
    "    with open(image_path, \"rb\") as image_file:\n",
    "        encoded_string = base64.b64encode(image_file.read()).decode('utf-8')\n",
    "        return encoded_string\n",
    "\n",
    "try:\n",
    "    base64_image = encode_image_to_base64(image_path)\n",
    "    response = ollama.chat(\n",
    "        model=\"llava:7b\",\n",
    "        messages=[\n",
    "            {\n",
    "                'role': 'user',\n",
    "                'content': question,\n",
    "                'images': [base64_image]\n",
    "            }\n",
    "        ]\n",
    "    )\n",
    "    print(response['message']['content'])\n",
    "\n",
    "except FileNotFoundError:\n",
    "    print(f\"오류: 이미지 파일을 찾을 수 없습니다: {image_path}\")\n",
    "except Exception as e:\n",
    "    print(f\"예상치 못한 오류 발생: {e}\")"
   ],
   "id": "ed23630455175381",
   "outputs": [
    {
     "name": "stdout",
     "output_type": "stream",
     "text": [
      " This image features a Mercedes-Benz SUV, specifically the Mercedes-Benz GLE, which is a popular model known for its luxury and performance. The vehicle is shown in profile view with one of its doors open, indicating that it's likely a promotional or informational image intended to showcase the car's features, design, and possibly the interior.\n",
      "\n",
      "The Mercedes-Benz GLE in the photo has a sleek, modern design with a large grille and distinctive headlights, which are characteristic of the Mercedes-Benz brand. The car is painted in a metallic silver color that reflects light, giving it a shiny appearance. The vehicle appears to be in good condition, suggesting it could be new or well-maintained.\n",
      "\n",
      "The car's wheels have a multi-spoke alloy design, which adds to its luxurious look. The side mirrors are body-colored and feature turn signals, which is common in modern vehicles for safety reasons. The open door indicates that the vehicle might be on display or that it's being shown off for potential buyers.\n",
      "\n",
      "The Mercedes-Benz logo is prominently displayed on the grille of the car, reinforcing its brand identity. This image is likely used by a dealership, promotional material, or in an automotive publication to highlight the features and design of this particular model. \n"
     ]
    }
   ],
   "execution_count": 3
  },
  {
   "metadata": {},
   "cell_type": "code",
   "outputs": [],
   "execution_count": null,
   "source": "",
   "id": "93063c844cfbb279"
  }
 ],
 "metadata": {
  "kernelspec": {
   "display_name": "Python 3",
   "language": "python",
   "name": "python3"
  },
  "language_info": {
   "codemirror_mode": {
    "name": "ipython",
    "version": 2
   },
   "file_extension": ".py",
   "mimetype": "text/x-python",
   "name": "python",
   "nbconvert_exporter": "python",
   "pygments_lexer": "ipython2",
   "version": "2.7.6"
  }
 },
 "nbformat": 4,
 "nbformat_minor": 5
}
